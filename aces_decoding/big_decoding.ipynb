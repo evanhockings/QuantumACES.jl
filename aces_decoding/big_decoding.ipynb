{
 "cells": [
  {
   "cell_type": "code",
   "execution_count": 1,
   "metadata": {},
   "outputs": [],
   "source": [
    "using QuantumACES, LinearAlgebra, SparseArrays, StatsBase, LsqFit\n",
    "using Plots, Plots.PlotMeasures, StatsPlots, ColorSchemes, LaTeXStrings\n",
    "using PrettyTables, Suppressor, JLD2\n",
    "# Set default plot parameters\n",
    "@suppress pgfplotsx()\n",
    "default(grid=false, fillalpha=0.5, tick_direction=:out, margins=0px,\n",
    "    titlefontsize=10, guidefontsize=9, tickfontsize=7, legendfontsize=7,\n",
    "    legendfonthalign=:left)\n",
    "push!(PGFPlotsX.CUSTOM_PREAMBLE, \"\\\\usepackage{amsmath}\")\n",
    "push!(PGFPlotsX.CUSTOM_PREAMBLE, \"\\\\usepackage{amssymb}\")\n",
    "# :tol_bright is a colourblind-friendly colourscheme\n",
    "tol_bright = ColorSchemes.tol_bright\n",
    "colour_series = [tol_bright[3]; tol_bright[1]; tol_bright[2]; tol_bright[4]; tol_bright[5]]\n",
    "# In REVTeX, one column width is 246 pt, and the text width is 510 pt\n",
    "col_width = 246.0\n",
    "text_width = 510.0\n",
    "aspect_ratio = 4 / 3\n",
    "inches_per_pt = 1.0 / 72.27\n",
    "default_dpi = 100.0\n",
    "col_width_px = col_width * inches_per_pt * default_dpi\n",
    "text_width_px = text_width * inches_per_pt * default_dpi\n",
    "col_height_px = col_width_px / aspect_ratio\n",
    "text_height_px = text_width_px / aspect_ratio\n",
    "triple_height = (1 + 2 * (text_width / col_width - 1)) * col_width / aspect_ratio\n",
    "triple_height_px = triple_height * inches_per_pt * default_dpi;"
   ]
  },
  {
   "cell_type": "code",
   "execution_count": 2,
   "metadata": {},
   "outputs": [
    {
     "data": {
      "text/plain": [
       "┌──────────────────┬─────────────────────┬─────────────────────┐\n",
       "│\u001b[1m Decoder label    \u001b[0m│\u001b[1m Memory X error rate \u001b[0m│\u001b[1m Memory Z error rate \u001b[0m│\n",
       "├──────────────────┼─────────────────────┼─────────────────────┤\n",
       "│ True             │ (0.0512 ± 0.0011)%  │ (0.0589 ± 0.001)%   │\n",
       "│ Depolarising     │ (0.0674 ± 0.0012)%  │ (0.0765 ± 0.0012)%  │\n",
       "│ ACES S'=1000000  │ (0.0528 ± 0.0011)%  │ (0.0599 ± 0.001)%   │\n",
       "│ ACES S'=10000000 │ (0.0516 ± 0.0011)%  │ (0.0592 ± 0.001)%   │\n",
       "└──────────────────┴─────────────────────┴─────────────────────┘\n"
      ]
     },
     "metadata": {},
     "output_type": "display_data"
    }
   ],
   "source": [
    "# Load the data\n",
    "big_decoding_dict = load(\"data/big_decoding_data.jld2\")\n",
    "big_memory_data = big_decoding_dict[\"big_memory_data\"]\n",
    "big_memory_summary = big_decoding_dict[\"big_memory_summary\"]\n",
    "rounds = 25\n",
    "big_shots = big_memory_summary.shots\n",
    "memory_summary_rounds = big_decoding_dict[\"memory_summary_rounds\"]\n",
    "rounds_set = [3; 5; 9; 17; 33]\n",
    "rounds_num = length(rounds_set)\n",
    "decoder_labels = [\"True noise\"; \"Tuned depolarising\"; \"ACES: 10^6 shots\"; \"ACES: 10^7 shots\"]\n",
    "decoder_num = length(decoder_labels)\n",
    "shots = memory_summary_rounds[1].shots\n",
    "# Check the data\n",
    "@assert rounds == big_memory_summary.rounds\n",
    "for round_idx in 1:rounds_num\n",
    "    memory_summary = memory_summary_rounds[round_idx]\n",
    "    @assert shots == memory_summary.shots\n",
    "    @assert decoder_num == length(memory_summary.decoder_labels)\n",
    "    @assert rounds_set[round_idx] == memory_summary.rounds\n",
    "end\n",
    "display(big_memory_summary)"
   ]
  },
  {
   "cell_type": "code",
   "execution_count": 3,
   "metadata": {},
   "outputs": [
    {
     "name": "stdout",
     "output_type": "stream",
     "text": [
      "┌────────────────────┬────────────┬──────────────────┬──────────────────┬────────────────────┐\n",
      "│\u001b[1m Succ. \\\\ Fail.     \u001b[0m│\u001b[1m True noise \u001b[0m│\u001b[1m ACES: 10^7 shots \u001b[0m│\u001b[1m ACES: 10^6 shots \u001b[0m│\u001b[1m Tuned depolarising \u001b[0m│\n",
      "├────────────────────┼────────────┼──────────────────┼──────────────────┼────────────────────┤\n",
      "│ True noise         │ 5507       │ 227              │ 619              │ 3005               │\n",
      "│ ACES: 10^7 shots   │ 195        │ 5539             │ 564              │ 2997               │\n",
      "│ ACES: 10^6 shots   │ 495        │ 472              │ 5631             │ 2994               │\n",
      "│ Tuned depolarising │ 1314       │ 1338             │ 1427             │ 7198               │\n",
      "└────────────────────┴────────────┴──────────────────┴──────────────────┴────────────────────┘\n"
     ]
    }
   ],
   "source": [
    "# Display the confusion matrix\n",
    "decoder_x_confusion = big_memory_summary.decoder_x_confusion\n",
    "decoder_z_confusion = big_memory_summary.decoder_z_confusion\n",
    "decoder_confusion = decoder_x_confusion + decoder_z_confusion\n",
    "decoder_order = [1; 4; 3; 2]\n",
    "decoder_confusion_ordered = decoder_confusion[decoder_order, decoder_order]\n",
    "pretty_table(hcat(decoder_labels[decoder_order], decoder_confusion_ordered),\n",
    "    header=[\"Succ. \\\\ Fail.\"; decoder_labels[decoder_order]],\n",
    "    alignment=:l,\n",
    ")"
   ]
  },
  {
   "cell_type": "code",
   "execution_count": 4,
   "metadata": {},
   "outputs": [
    {
     "name": "stdout",
     "output_type": "stream",
     "text": [
      "┌────────────────────┬────────────────────────────────────────┐\n",
      "│\u001b[1m Decoder            \u001b[0m│\u001b[1m Distance 25 relative LER for 25 rounds \u001b[0m│\n",
      "├────────────────────┼────────────────────────────────────────┤\n",
      "│ True noise         │ 1.0                                    │\n",
      "│ Tuned depolarising │ 1.30706                                │\n",
      "│ ACES: 10^6 shots   │ 1.02252                                │\n",
      "│ ACES: 10^7 shots   │ 1.00581                                │\n",
      "└────────────────────┴────────────────────────────────────────┘\n"
     ]
    }
   ],
   "source": [
    "# Print the logical error ratios\n",
    "memory_errors = diag(decoder_confusion)\n",
    "pretty_table(hcat(decoder_labels, memory_errors / memory_errors[1]),\n",
    "    header=[\"Decoder\"; \"Distance 25 relative LER for 25 rounds\"],\n",
    "    alignment=:l,\n",
    ")"
   ]
  },
  {
   "cell_type": "code",
   "execution_count": 5,
   "metadata": {},
   "outputs": [],
   "source": [
    "# Fit the memory errors\n",
    "rounds_x_errors = Vector{Float64}(undef, decoder_num)\n",
    "rounds_x_errors_se = Vector{Float64}(undef, decoder_num)\n",
    "rounds_z_errors = Vector{Float64}(undef, decoder_num)\n",
    "rounds_z_errors_se = Vector{Float64}(undef, decoder_num)\n",
    "for decoder_idx in 1:decoder_num\n",
    "    # Memory X error\n",
    "    memory_x_errors = [memory_summary.memory_x_errors[decoder_idx] for memory_summary in memory_summary_rounds]\n",
    "    memory_x_errors_se = [sqrt(memory_summary.memory_x_errors_cov[decoder_idx, decoder_idx] / memory_summary.shots) for memory_summary in memory_summary_rounds]\n",
    "    (round_x_params, round_x_params_cov) = fit_round_error(rounds_set, memory_x_errors, memory_x_errors_se; return_cov=true)\n",
    "    (round_x_error, round_x_error_se) = get_round_error(round_x_params, round_x_params_cov)\n",
    "    rounds_x_errors[decoder_idx] = round_x_error\n",
    "    rounds_x_errors_se[decoder_idx] = round_x_error_se\n",
    "    # Memory Z error\n",
    "    memory_z_errors = [memory_summary.memory_z_errors[decoder_idx] for memory_summary in memory_summary_rounds]\n",
    "    memory_z_errors_se = [sqrt(memory_summary.memory_z_errors_cov[decoder_idx, decoder_idx] / memory_summary.shots) for memory_summary in memory_summary_rounds]\n",
    "    (round_z_params, round_z_params_cov) = fit_round_error(rounds_set, memory_z_errors, memory_z_errors_se; return_cov=true)\n",
    "    (round_z_error, round_z_error_se) = get_round_error(round_z_params, round_z_params_cov)\n",
    "    rounds_z_errors[decoder_idx] = round_z_error\n",
    "    rounds_z_errors_se[decoder_idx] = round_z_error_se\n",
    "end"
   ]
  },
  {
   "cell_type": "code",
   "execution_count": 6,
   "metadata": {},
   "outputs": [
    {
     "name": "stdout",
     "output_type": "stream",
     "text": [
      "┌────────────────────┬───────────────────────────┐\n",
      "│\u001b[1m Decoder            \u001b[0m│\u001b[1m Distance 25 LER per round \u001b[0m│\n",
      "├────────────────────┼───────────────────────────┤\n",
      "│ True noise         │ (2.392 ± 0.05) x 1e-5     │\n",
      "│ Tuned depolarising │ (3.126 ± 0.058) x 1e-5    │\n",
      "│ ACES: 10^6 shots   │ (2.421 ± 0.05) x 1e-5     │\n",
      "│ ACES: 10^7 shots   │ (2.4 ± 0.05) x 1e-5       │\n",
      "└────────────────────┴───────────────────────────┘\n"
     ]
    }
   ],
   "source": [
    "# Average the memory errors\n",
    "rounds_errors = (rounds_x_errors + rounds_z_errors) / 2\n",
    "rounds_errors_se = sqrt.(rounds_x_errors_se .^ 2 + rounds_z_errors_se .^ 2) / 2\n",
    "# Print the memory errors\n",
    "scale_factor = 5\n",
    "digits = 3\n",
    "rounds_errors_string = [\n",
    "    \"($(round(10^scale_factor * rounds_errors[j], digits = digits)) ± $(round(10^scale_factor * rounds_errors_se[j], digits = digits))) x 1e$(-scale_factor)\"\n",
    "    for j in 1:decoder_num\n",
    "]\n",
    "pretty_table(hcat(decoder_labels, rounds_errors_string),\n",
    "    header=[\"Decoder\"; \"Distance 25 LER per round\"],\n",
    "    alignment=:l,\n",
    ")"
   ]
  },
  {
   "cell_type": "code",
   "execution_count": 7,
   "metadata": {},
   "outputs": [
    {
     "name": "stdout",
     "output_type": "stream",
     "text": [
      "┌────────────────────┬────────────────────────────────────┐\n",
      "│\u001b[1m Decoder            \u001b[0m│\u001b[1m Distance 25 relative LER per round \u001b[0m│\n",
      "├────────────────────┼────────────────────────────────────┤\n",
      "│ True noise         │ 1.0 ± 0.0297                       │\n",
      "│ Tuned depolarising │ 1.3068 ± 0.0367                    │\n",
      "│ ACES: 10^6 shots   │ 1.012 ± 0.0299                     │\n",
      "│ ACES: 10^7 shots   │ 1.0031 ± 0.0297                    │\n",
      "└────────────────────┴────────────────────────────────────┘\n"
     ]
    }
   ],
   "source": [
    "# Print the relative memory errors\n",
    "rounds_relative_errors = rounds_errors ./ rounds_errors[1]\n",
    "# This currently does not account for covariance information\n",
    "# In truth the standard errors will be smaller\n",
    "rounds_relative_errors_se = rounds_relative_errors .* sqrt.(rounds_errors_se .^ 2 ./ rounds_errors .^ 2 .+ rounds_errors_se[1] .^ 2 / rounds_errors[1] .^ 2)\n",
    "digits = 4\n",
    "rounds_relative_errors_string = [\n",
    "    \"$(round(rounds_relative_errors[j], digits = digits)) ± $(round( rounds_relative_errors_se[j], digits = digits))\"\n",
    "    for j in 1:decoder_num\n",
    "]\n",
    "pretty_table(hcat(decoder_labels, rounds_relative_errors_string),\n",
    "    header=[\"Decoder\"; \"Distance 25 relative LER per round\"],\n",
    "    alignment=:l,\n",
    ")"
   ]
  },
  {
   "cell_type": "code",
   "execution_count": null,
   "metadata": {},
   "outputs": [],
   "source": []
  }
 ],
 "metadata": {
  "kernelspec": {
   "display_name": "Julia 1.10.8",
   "language": "julia",
   "name": "julia-1.10"
  },
  "language_info": {
   "file_extension": ".jl",
   "mimetype": "application/julia",
   "name": "julia",
   "version": "1.10.8"
  }
 },
 "nbformat": 4,
 "nbformat_minor": 2
}
